{
 "cells": [
  {
   "cell_type": "code",
   "execution_count": 1,
   "id": "initial_id",
   "metadata": {
    "collapsed": true,
    "ExecuteTime": {
     "end_time": "2023-08-29T09:40:21.869876800Z",
     "start_time": "2023-08-29T09:40:20.081938300Z"
    }
   },
   "outputs": [],
   "source": [
    "import os\n",
    "import warnings\n",
    "\n",
    "from src.main import ClusterService\n",
    "\n",
    "warnings.filterwarnings('ignore')\n",
    "os.chdir('..')"
   ]
  },
  {
   "cell_type": "markdown",
   "source": [
    "# ClusterService"
   ],
   "metadata": {
    "collapsed": false
   },
   "id": "e8eafc74ae3ea9bc"
  },
  {
   "cell_type": "markdown",
   "source": [
    "This class is used for clustering the images and evaluation results"
   ],
   "metadata": {
    "collapsed": false
   },
   "id": "89077905bdcd2df8"
  },
  {
   "cell_type": "code",
   "execution_count": null,
   "outputs": [],
   "source": [
    "service = ClusterService(path_to_images='data/processed/test-task/clusters', path_to_target_clusters='data/processed/test-task/clusters.csv')"
   ],
   "metadata": {
    "collapsed": false
   },
   "id": "2ebc5158d39c777d"
  },
  {
   "cell_type": "markdown",
   "source": [
    "Target clusters contain different cluster_id with background images. But model for generating embeddings of faces ignore background images. That's why full evaluation according to 'clusters.csv' is poor. However, after face filtering images and clustering them, quality of algorithm dramatically improved "
   ],
   "metadata": {
    "collapsed": false
   },
   "id": "84758908cda06386"
  },
  {
   "cell_type": "code",
   "execution_count": 3,
   "outputs": [
    {
     "name": "stdout",
     "output_type": "stream",
     "text": [
      "\n",
      "Background and face images clustering: \n",
      "Homogeneity score: 0.3965393867896544\n",
      "Completeness score: 0.6129324424069272\n",
      "V-Measure score: 0.4815426202610689\n",
      "\n",
      "Face images clustering: \n",
      "Homogeneity score: 0.9768697821391191\n",
      "Completeness score: 0.8898553170854854\n",
      "V-Measure score: 0.9313345281506219\n"
     ]
    }
   ],
   "source": [
    "service.run('data/processed/test-task/embeddings.txt')\n",
    "# service.run() # will generate embeddings in real time"
   ],
   "metadata": {
    "collapsed": false,
    "ExecuteTime": {
     "end_time": "2023-08-29T09:40:50.659546200Z",
     "start_time": "2023-08-29T09:40:25.707431500Z"
    }
   },
   "id": "7458aee8e3d306be"
  },
  {
   "cell_type": "markdown",
   "source": [
    "# Visualization of clusters"
   ],
   "metadata": {
    "collapsed": false
   },
   "id": "67b8f939ae34e70f"
  },
  {
   "cell_type": "code",
   "execution_count": null,
   "outputs": [],
   "source": [
    "from src.utils.visualization import vis_clusters\n",
    "from src.utils.embeddings_projection import resize_embedding\n",
    "\n",
    "embeddings, labels, predictions = service.get_data_for_visualization('data/processed/test-task/embeddings.txt')\n",
    "embeddings = resize_embedding(embeddings, dim=2)"
   ],
   "metadata": {
    "collapsed": false,
    "is_executing": true,
    "ExecuteTime": {
     "start_time": "2023-08-29T09:40:50.659546200Z"
    }
   },
   "id": "6a1cffbce47f9873"
  },
  {
   "cell_type": "code",
   "execution_count": null,
   "outputs": [],
   "source": [
    "vis_clusters(embeddings, predictions, labels)"
   ],
   "metadata": {
    "collapsed": false,
    "is_executing": true
   },
   "id": "ee40a70bbd36b0cf"
  },
  {
   "cell_type": "code",
   "execution_count": null,
   "outputs": [],
   "source": [],
   "metadata": {
    "collapsed": false
   },
   "id": "6ce394b1642da996"
  }
 ],
 "metadata": {
  "kernelspec": {
   "display_name": "Python 3",
   "language": "python",
   "name": "python3"
  },
  "language_info": {
   "codemirror_mode": {
    "name": "ipython",
    "version": 2
   },
   "file_extension": ".py",
   "mimetype": "text/x-python",
   "name": "python",
   "nbconvert_exporter": "python",
   "pygments_lexer": "ipython2",
   "version": "2.7.6"
  }
 },
 "nbformat": 4,
 "nbformat_minor": 5
}
